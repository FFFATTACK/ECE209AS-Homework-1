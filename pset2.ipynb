{
 "cells": [
  {
   "cell_type": "code",
   "execution_count": 1,
   "metadata": {},
   "outputs": [],
   "source": [
    "import numpy \n",
    "import matplotlib.pyplot as plt\n",
    "import copy\n",
    "import time"
   ]
  },
  {
   "cell_type": "code",
   "execution_count": 2,
   "metadata": {
    "code_folding": [
     3,
     26
    ]
   },
   "outputs": [
    {
     "name": "stdout",
     "output_type": "stream",
     "text": [
      "The size of the state is W*L*rotation =  432\n",
      "The size of the action is:  7\n"
     ]
    }
   ],
   "source": [
    "\"\"\"\n",
    "1(a). State formation\n",
    "\"\"\"\n",
    "def form_state(W,L,rotation):\n",
    "    S = [] \n",
    "    for i in range(W):\n",
    "        for j in range(L):\n",
    "            for k in range(rotation):\n",
    "                S.append(i * W + j + k / 100)\n",
    "    return S\n",
    "\n",
    "#number of W and L and rotation\n",
    "#can be revised accordingly\n",
    "W = 6\n",
    "L = 6\n",
    "rotation = 12\n",
    "S = form_state(W,L,rotation)\n",
    "print(\"The size of the state is W*L*rotation = \",len(S))\n",
    "\n",
    "\n",
    "\"\"\"\n",
    "1(b). Action formation\n",
    "\"\"\"\n",
    "movingset = [\"forward\",\"backward\",\"stay\"]\n",
    "rotationset = [\"left\",\"right\",\"stay\"]\n",
    "A = []\n",
    "for i in movingset:\n",
    "    if i == \"stay\":\n",
    "        A.append((i,\"NA\"))\n",
    "    else:\n",
    "        for j in rotationset:\n",
    "            A.append((i,j))\n",
    "print(\"The size of the action is: \",len(A))"
   ]
  },
  {
   "cell_type": "code",
   "execution_count": 3,
   "metadata": {
    "code_folding": []
   },
   "outputs": [],
   "source": [
    "\"\"\"\n",
    "1(c). The function returns the probability psa(s')\n",
    "\"\"\"\n",
    "def probability_of_state(pe,s,action,ss):\n",
    "    \n",
    "    #transform the state information to the coordinates and direction indices\n",
    "    cd = int(100 * round(s - int(s),2))\n",
    "    cp = (int(s) % W,int((int(s) - int(s) % W) / W))\n",
    "    nd = int(100 * round(ss - int(ss),2))\n",
    "    np = (int(ss) % W,int((int(ss) - int(ss) % W) / W))\n",
    "                            \n",
    "    \"\"\"\n",
    "    Do the math\n",
    "    \"\"\"        \n",
    "    #next state is not the neighbour of current state \n",
    "    if numpy.linalg.norm([np[0]-cp[0],np[1]-cp[1]]) > 1:\n",
    "        return 0\n",
    "    \n",
    "    #current state and next state has the same position \n",
    "    elif numpy.linalg.norm([np[0]-cp[0],np[1]-cp[1]]) == 0:\n",
    "        \n",
    "        #situation 1: action is to ask stay\n",
    "        if action[0] == \"stay\":\n",
    "            return 1\n",
    "        #situation 2: the directions are also the same\n",
    "        elif cd == nd:\n",
    "            #subsituation 1: the action asks to move and stay\n",
    "            if action[1] == \"stay\":\n",
    "                return 1-2*pe\n",
    "            #subsituation 2: there is pre-rotation\n",
    "            else:\n",
    "                return pe\n",
    "        #situation 3: there is change of 1 in direction    \n",
    "        elif abs(cd - nd) == 1 or abs(cd - nd) == 11:\n",
    "            return 1-2*pe\n",
    "        #situation 4: pre-rotation\n",
    "        elif (cd - nd == -2 or cd - nd == 10) and action[1] == \"right\":\n",
    "            return pe\n",
    "        elif (cd - nd == 2 or cd - nd == -10) and action[1] == \"left\":\n",
    "            return pe\n",
    "        #next state direction cannot turned into given the current state direction\n",
    "        else:\n",
    "            return 0\n",
    "    \n",
    "    #current state and next state has the difference of 1 in x or y (not the same time)\n",
    "    else:\n",
    "        \n",
    "        #situation 1: the directions are also the same\n",
    "        if cd == nd:\n",
    "            #subsituation 1: the action asks to move and stay\n",
    "            if action[1] == \"stay\":\n",
    "                return 1-2*pe\n",
    "            #subsituation 2: there is pre-rotation\n",
    "            else:\n",
    "                return pe\n",
    "        #situation 2: there is change of 1 in direction    \n",
    "        elif abs(cd - nd) == 1 or abs(cd - nd) == 11:\n",
    "            return 1-2*pe\n",
    "        #situation 3: pre-rotation\n",
    "        elif (cd - nd == -2 or cd - nd == 10) and action[1] == \"right\":\n",
    "            return pe\n",
    "        elif (cd - nd == 2 or cd - nd == -10) and action[1] == \"left\":\n",
    "            return pe\n",
    "        #situation 4: no chance\n",
    "        else:\n",
    "            return 0"
   ]
  },
  {
   "cell_type": "code",
   "execution_count": 4,
   "metadata": {
    "code_folding": [
     14,
     44,
     78,
     108,
     142,
     146,
     176
    ]
   },
   "outputs": [],
   "source": [
    "\"\"\"\n",
    "1(d) Function to return a next state s'\n",
    "\"\"\"\n",
    "def find_next_state(pe,s,action,flag=1):\n",
    "    #transform the state information to the coordinates and direction indices\n",
    "    cd = int(100 * round(s - int(s),2))\n",
    "    cp = (int(s) % W,int((int(s) - int(s) % W) / W))\n",
    "    prob = []\n",
    "    nxp = []\n",
    "\n",
    "    \"\"\"#with pe probability of pre-rotate to right\"\"\" \n",
    "    prob.append(pe)\n",
    "    nd = (cd + 1) % 12\n",
    "    #if action is asked to forward\n",
    "    if action[0] == \"forward\":\n",
    "        #find possible next positions\n",
    "        if nd in [11,0,1]:\n",
    "            if cp[1] == 5:\n",
    "                np = cp\n",
    "            else:\n",
    "                np = (cp[0],cp[1]+1)\n",
    "        elif nd in [2,3,4]:\n",
    "            if cp[0] == 5:\n",
    "                np = cp\n",
    "            else:\n",
    "                np = (cp[0] + 1,cp[1])\n",
    "        elif nd in [5,6,7]:        \n",
    "            if cp[1] == 0:\n",
    "                np = cp\n",
    "            else:\n",
    "                np = (cp[0],cp[1]-1)\n",
    "        else:\n",
    "            if cp[0] == 0:\n",
    "                np = cp\n",
    "            else:\n",
    "                np = (cp[0]-1,cp[1])\n",
    "        #find possible next direction\n",
    "        if action[1] == \"stay\":\n",
    "            nd = nd\n",
    "        elif action[1] == \"left\":\n",
    "            nd = (nd - 1) % 12\n",
    "        else:\n",
    "            nd = (nd + 1) % 12\n",
    "    #if action is asked to backward        \n",
    "    else:       \n",
    "        if nd in [11,0,1]:\n",
    "            if cp[1] == 0:\n",
    "                np = cp\n",
    "            else:\n",
    "                np = (cp[0],cp[1]-1)\n",
    "        elif nd in [2,3,4]:\n",
    "            if cp[0] == 0:\n",
    "                np = cp\n",
    "            else:\n",
    "                np = (cp[0]-1,cp[1])\n",
    "        elif nd in [5,6,7]:        \n",
    "            if cp[1] == 5:\n",
    "                np = cp\n",
    "            else:\n",
    "                np = (cp[0],cp[1]+1)\n",
    "        else:\n",
    "            if cp[0] == 5:\n",
    "                np = cp\n",
    "            else:\n",
    "                np = (cp[0]+1,cp[1])\n",
    "\n",
    "        if action[1] == \"stay\":\n",
    "            nd = nd\n",
    "        elif action[1] == \"left\":\n",
    "            nd = (nd - 1) % 12\n",
    "        else:\n",
    "            nd = (nd + 1) % 12\n",
    "\n",
    "    #store next state position information\n",
    "    nxp.append(np[1]*6 + np[0] + nd/100)\n",
    "\n",
    "    \"\"\"with pe probability of pre-rotate to left \"\"\"\n",
    "    prob.append(pe)\n",
    "    nd = (cd - 1) % 12\n",
    "    #if action is asked to forward\n",
    "    if action[0] == \"forward\":\n",
    "        #find possible next positions\n",
    "        if nd in [11,0,1]:\n",
    "            if cp[1] == 5:\n",
    "                np = cp\n",
    "            else:\n",
    "                np = (cp[0],cp[1]+1)\n",
    "        elif nd in [2,3,4]:\n",
    "            if cp[0] == 5:\n",
    "                np = cp\n",
    "            else:\n",
    "                np = (cp[0] + 1,cp[1])\n",
    "        elif nd in [5,6,7]:        \n",
    "            if cp[1] == 0:\n",
    "                np = cp\n",
    "            else:\n",
    "                np = (cp[0],cp[1]-1)\n",
    "        else:\n",
    "            if cp[0] == 0:\n",
    "                np = cp\n",
    "            else:\n",
    "                np = (cp[0]-1,cp[1])\n",
    "        #find possible next direction\n",
    "        if action[1] == \"stay\":\n",
    "            nd = nd\n",
    "        elif action[1] == \"left\":\n",
    "            nd = (nd - 1) % 12\n",
    "        else:\n",
    "            nd = (nd + 1) % 12\n",
    "    #if action is asked to backward        \n",
    "    else:       \n",
    "        if nd in [11,0,1]:\n",
    "            if cp[1] == 0:\n",
    "                np = cp\n",
    "            else:\n",
    "                np = (cp[0],cp[1]-1)\n",
    "        elif nd in [2,3,4]:\n",
    "            if cp[0] == 0:\n",
    "                np = cp\n",
    "            else:\n",
    "                np = (cp[0]-1,cp[1])\n",
    "        elif nd in [5,6,7]:        \n",
    "            if cp[1] == 5:\n",
    "                np = cp\n",
    "            else:\n",
    "                np = (cp[0],cp[1]+1)\n",
    "        else:\n",
    "            if cp[0] == 5:\n",
    "                np = cp\n",
    "            else:\n",
    "                np = (cp[0]+1,cp[1])\n",
    "\n",
    "        if action[1] == \"stay\":\n",
    "            nd = nd\n",
    "        elif action[1] == \"left\":\n",
    "            nd = (nd - 1) % 12\n",
    "        else:\n",
    "            nd = (nd + 1) % 12\n",
    "    #store next state position information\n",
    "    nxp.append(np[1]*6 + np[0] + nd/100)\n",
    "\n",
    "    \"\"\"with 1-2*pe probability of not wrong\"\"\"\n",
    "    prob.append(1-2*pe)\n",
    "    nd = cd\n",
    "    #if action is asked to stay\n",
    "    if action[0] == \"stay\":\n",
    "        np = cp\n",
    "        nd = cd\n",
    "    #if action is asked to forward    \n",
    "    elif action[0] == \"forward\":\n",
    "        #find possible next positions\n",
    "        if nd in [11,0,1]:\n",
    "            if cp[1] == 5:\n",
    "                np = cp\n",
    "            else:\n",
    "                np = (cp[0],cp[1]+1)\n",
    "        elif nd in [2,3,4]:\n",
    "            if cp[0] == 5:\n",
    "                np = cp\n",
    "            else:\n",
    "                np = (cp[0] + 1,cp[1])\n",
    "        elif nd in [5,6,7]:        \n",
    "            if cp[1] == 0:\n",
    "                np = cp\n",
    "            else:\n",
    "                np = (cp[0],cp[1]-1)\n",
    "        else:\n",
    "            if cp[0] == 0:\n",
    "                np = cp\n",
    "            else:\n",
    "                np = (cp[0]-1,cp[1])\n",
    "        #find possible next direction\n",
    "        if action[1] == \"stay\":\n",
    "            nd = nd\n",
    "        elif action[1] == \"left\":\n",
    "            nd = (nd - 1) % 12\n",
    "        else:\n",
    "            nd = (nd + 1) % 12\n",
    "    #if action is asked to backward        \n",
    "    else:       \n",
    "        if nd in [11,0,1]:\n",
    "            if cp[1] == 0:\n",
    "                np = cp\n",
    "            else:\n",
    "                np = (cp[0],cp[1]-1)\n",
    "        elif nd in [2,3,4]:\n",
    "            if cp[0] == 0:\n",
    "                np = cp\n",
    "            else:\n",
    "                np = (cp[0]-1,cp[1])\n",
    "        elif nd in [5,6,7]:        \n",
    "            if cp[1] == 5:\n",
    "                np = cp\n",
    "            else:\n",
    "                np = (cp[0],cp[1]+1)\n",
    "        else:\n",
    "            if cp[0] == 5:\n",
    "                np = cp\n",
    "            else:\n",
    "                np = (cp[0]+1,cp[1])\n",
    "\n",
    "        if action[1] == \"stay\":\n",
    "            nd = nd\n",
    "        elif action[1] == \"left\":\n",
    "            nd = (nd - 1) % 12\n",
    "        else:\n",
    "            nd = (nd + 1) % 12\n",
    "    #store next state position information\n",
    "    nxp.append(np[1]*6 + np[0] + nd/100)\n",
    "    \n",
    "    \n",
    "    \"\"\"\n",
    "    the vector \"nxp\" and \"prob\" have the information of all possible next states and the probability\n",
    "    \"\"\"\n",
    "    \n",
    "    #asked to return one possible next state\n",
    "    if flag == 0:\n",
    "        return numpy.random.choice(nxp,1,p=prob)\n",
    "    #return all possible next states and corresponding probability\n",
    "    else:\n",
    "        return nxp,prob"
   ]
  },
  {
   "cell_type": "code",
   "execution_count": 5,
   "metadata": {
    "code_folding": []
   },
   "outputs": [],
   "source": [
    "\"\"\"\n",
    "2 Rewards\n",
    "\"\"\"\n",
    "def reward(s):\n",
    "    #transform the state information to the coordinates and direction indices\n",
    "    cd = int(100 * round(s - int(s),2))\n",
    "    cp = (int(s) % W,int((int(s) - int(s) % W) / W))\n",
    "    #on boundary\n",
    "    if cp[0] in [0,5] or cp[1] in [0,5]:\n",
    "        return -100\n",
    "    #yellow\n",
    "    elif cp in [(2,4),(2,3),(2,2),(4,2),(4,3),(4,4)]:\n",
    "        return -10\n",
    "    #green\n",
    "    elif cp == (3,4):\n",
    "        return 1\n",
    "    #white\n",
    "    else:\n",
    "        return 0"
   ]
  },
  {
   "cell_type": "code",
   "execution_count": 6,
   "metadata": {
    "code_folding": []
   },
   "outputs": [],
   "source": [
    "\"\"\"\n",
    "3(a) Initial Policy\n",
    "\"\"\"\n",
    "initial_policy = []\n",
    "for k in range(6):\n",
    "    temp2 = []\n",
    "    for i in range(6):\n",
    "        temp = []\n",
    "        for j in range(12):\n",
    "            temp.append((\"forward\",\"right\"))\n",
    "        temp2.append(temp)    \n",
    "    initial_policy.append(temp2)"
   ]
  },
  {
   "cell_type": "code",
   "execution_count": 7,
   "metadata": {
    "code_folding": []
   },
   "outputs": [],
   "source": [
    "\"\"\"\n",
    "3(b)\n",
    "\"\"\"\n",
    "def find_trajectory(policy,s,pe):\n",
    "    #transform the state information to the coordinates and direction indices\n",
    "    cp = (int(s) % W,int((int(s) - int(s) % W) / W))\n",
    "    cd = int(100 * round(s - int(s),2))\n",
    "\n",
    "    ss = find_next_state(pe,s,policy[cp[0]][cp[1]][cd],flag=0)[0]\n",
    "    np = (int(ss) % W,int((int(ss) - int(ss) % W) / W))\n",
    "    nd = int(100 * round(ss - int(ss),2))\n",
    "    plt.plot([cp[0],np[0]],[cp[1],np[1]],\"ro-\")\n",
    "#     print(cp,cd,np,nd)\n",
    "    for num in range(50):\n",
    "        sss = ss\n",
    "        np1 = (int(sss) % W,int((int(sss) - int(sss) % W) / W))\n",
    "        nd1 = int(100 * round(sss - int(sss),2))\n",
    "\n",
    "        ss = find_next_state(pe,sss,policy[np1[0]][np1[1]][cd],flag=0)[0]\n",
    "        np2 = (int(ss) % W,int((int(ss) - int(ss) % W) / W))\n",
    "        nd2 = int(100 * round(ss - int(ss),2))\n",
    "        plt.plot([np1[0],np2[0]],[np1[1],np2[1]],\"ro-\")\n",
    "#         print(np1,nd1,np2,nd2)\n",
    "    plt.xlim((0,5))\n",
    "    plt.ylim((0,5))\n",
    "    plt.show()\n",
    "    plt.gcf().clear()"
   ]
  },
  {
   "cell_type": "code",
   "execution_count": 8,
   "metadata": {
    "scrolled": true
   },
   "outputs": [
    {
     "data": {
      "image/png": "[encoded data removed]",
      "text/plain": [
       "<matplotlib.figure.Figure at 0x211ad2d9c88>"
      ]
     },
     "metadata": {},
     "output_type": "display_data"
    },
    {
     "data": {
      "text/plain": [
       "<matplotlib.figure.Figure at 0x211ad163128>"
      ]
     },
     "metadata": {},
     "output_type": "display_data"
    }
   ],
   "source": [
    "\"\"\"\n",
    "3(c)\n",
    "for state x=1, y=4, h=6, my s=21.06\n",
    "\"\"\"\n",
    "find_trajectory(initial_policy,25.06,0)"
   ]
  },
  {
   "cell_type": "code",
   "execution_count": 9,
   "metadata": {},
   "outputs": [],
   "source": [
    "\"\"\"\n",
    "3(d)\n",
    "\"\"\"\n",
    "def policy_evaluation(policy,lamda,pe):\n",
    "    #initialization V\n",
    "    V = numpy.zeros((6,6,12))\n",
    "    V_copy = numpy.zeros((6,6,12))\n",
    "    flag = 0.001\n",
    "    diff = 10\n",
    "    # loop until converge\n",
    "    while(diff>flag):\n",
    "        #store last state value for later use\n",
    "        V = copy.deepcopy(V_copy)\n",
    "        #run for every state\n",
    "        for j in range(6):\n",
    "            for i in range(6):\n",
    "                for k in range(12):\n",
    "                    s = i + j * 6 + k/100\n",
    "                    a = policy[i][j][k]\n",
    "                    #possible next states and corresponding probability\n",
    "                    nxt,prob = find_next_state(pe,s,a)\n",
    "                    VV = 0\n",
    "#                     print(s)\n",
    "                    for n in range(len(nxt)):\n",
    "#                         print(nxt[n],prob[n],reward(nxt[n]))\n",
    "                        np = (int(nxt[n]) % W,int((int(nxt[n]) - int(nxt[n]) % W) / W))\n",
    "                        nd = int(100 * round(nxt[n] - int(nxt[n]),2))\n",
    "                        VV += prob[n] *(reward(nxt[n]) + lamda*V[np[0],np[1],nd])\n",
    "                    #update state value to another matrix and update the whole matrix after all states are swept    \n",
    "                    V_copy[i,j,k] = VV\n",
    "        #find the max difference between new state values and last state values            \n",
    "        diff = numpy.amax(abs(V - V_copy))\n",
    "    return V"
   ]
  },
  {
   "cell_type": "code",
   "execution_count": 10,
   "metadata": {
    "scrolled": true
   },
   "outputs": [
    {
     "data": {
      "text/plain": [
       "array([[[-601.04071376, -614.22190418, -842.35777422, -824.84197135,\n",
       "         -805.37996817, -783.75552019, -759.72938481, -733.03367883,\n",
       "         -703.3717833 , -670.4141216 , -633.79449749, -593.10602625],\n",
       "        [-547.89661376, -556.71190418, -571.35777422, -634.84197135,\n",
       "         -705.37996817, -783.75552019, -759.72938481, -733.03367883,\n",
       "         -584.25851734, -538.06604831, -486.74108272, -429.71334318],\n",
       "        [-366.34918813, -497.66290418, -507.45777422, -562.84197135,\n",
       "         -615.37996817, -783.75552019, -759.72938481, -625.83266561,\n",
       "         -782.29239207, -758.1036869 , -731.22734782, -701.36474885],\n",
       "        [-668.18408332, -295.94354236, -441.84777422, -498.04197135,\n",
       "         -534.37996817, -783.75552019, -663.24939904, -804.06315287,\n",
       "         -782.29239207, -758.1036869 , -731.22734782, -701.36474885],\n",
       "        [-668.18408332, -631.31667717, -217.71514997, -310.3398119 ,\n",
       "         -383.33201323, -696.92445914, -823.65674497, -804.06315287,\n",
       "         -782.29239207, -758.1036869 , -731.22734782, -701.36474885],\n",
       "        [-668.18408332, -631.31667717, -590.35289257, -614.83777634,\n",
       "         -613.26196342, -841.29107047, -823.65674497, -804.06315287,\n",
       "         -782.29239207, -758.1036869 , -731.22734782, -701.36474885]],\n",
       "\n",
       "       [[-305.12340436, -388.34610775, -702.49567528, -824.84197135,\n",
       "         -805.37996817, -783.75552019, -759.72938481, -733.03367883,\n",
       "         -703.3717833 , -670.4141216 , -633.79449749, -232.09578393],\n",
       "        [-257.88420436, -339.02610775, -431.49567528, -634.84197135,\n",
       "         -705.37996817, -783.75552019, -759.72938481, -733.03367883,\n",
       "         -584.25851734, -538.06604831, -486.74108272,  -31.54522285],\n",
       "        [ -35.05024761, -286.53810775, -376.69567528, -563.84197135,\n",
       "         -625.37996817, -683.75552019, -659.72938481, -525.83266561,\n",
       "         -782.29239207, -758.1036869 , -731.22734782, -413.12241939],\n",
       "        [-459.02593948,  -38.94482247, -318.37567528, -490.94197135,\n",
       "         -553.37996817, -593.75552019, -473.24939904, -704.06315287,\n",
       "         -782.29239207, -758.1036869 , -731.22734782, -503.12241939],\n",
       "        [-559.02593948, -510.02985068,  -43.27201468, -241.9057119 ,\n",
       "         -344.82201323, -425.92445914, -633.65674497, -704.06315287,\n",
       "         -782.29239207, -758.1036869 , -731.22734782, -603.12241939],\n",
       "        [-559.02593948, -510.02985068, -455.58975203, -544.83757634,\n",
       "         -572.04196342, -570.29107047, -633.65674497, -704.06315287,\n",
       "         -782.29239207, -758.1036869 , -731.22734782, -603.12241939]],\n",
       "\n",
       "       [[-503.64341799, -541.50379776, -791.67098931, -669.4397421 ,\n",
       "         -805.37996817, -783.75552019, -759.72938481, -733.03367883,\n",
       "         -703.3717833 , -670.4141216 , -308.88620553, -462.27898358],\n",
       "        [-513.64341799, -559.60379776, -601.67098931, -479.4397421 ,\n",
       "         -705.37996817, -783.75552019, -759.72938481, -733.03367883,\n",
       "         -484.25851734, -438.06604831,  -28.39070056, -328.88612406],\n",
       "        [-354.31801853, -559.60379776, -610.67098931, -407.4397421 ,\n",
       "         -615.37996817, -683.75552019, -659.72938481, -435.83266561,\n",
       "         -682.29239207, -658.1036869 , -371.81017745, -625.14675761],\n",
       "        [-683.49742638, -382.57556586, -610.67098931, -342.6397421 ,\n",
       "         -534.37996817, -603.75552019, -402.24939904, -624.06315287,\n",
       "         -682.29239207, -658.1036869 , -452.81017745, -706.14675761],\n",
       "        [-773.49742638, -748.3315028 , -413.97295386,  -36.9690081 ,\n",
       "         -257.67301323, -372.02445914, -571.65674497, -624.06315287,\n",
       "         -682.29239207, -658.1036869 , -542.81017745, -796.14675761],\n",
       "        [-773.49742638, -748.3315028 , -720.36936549, -395.10075352,\n",
       "         -494.26396342, -524.49107047, -571.65674497, -624.06315287,\n",
       "         -782.29239207, -758.1036869 , -642.81017745, -796.14675761]],\n",
       "\n",
       "       [[-568.35341799, -622.50379776, -791.67098931, -768.5243505 ,\n",
       "         -632.71092746, -783.75552019, -759.72938481, -733.03367883,\n",
       "         -703.3717833 , -377.99758498, -516.0509926 , -511.51798358],\n",
       "        [-568.35341799, -631.50379776, -691.67098931, -668.5243505 ,\n",
       "         -532.71092746, -783.75552019, -759.72938481, -733.03367883,\n",
       "         -394.25851734,  -25.55163051, -295.99741904, -368.04412406],\n",
       "        [-408.93801853, -631.50379776, -701.67098931, -678.5243505 ,\n",
       "         -452.71092746, -683.75552019, -659.72938481, -354.83266561,\n",
       "         -602.29239207, -344.62915971, -572.63198923, -605.24675761],\n",
       "        [-672.49742638, -454.37556586, -701.67098931, -678.5243505 ,\n",
       "         -380.71092746, -593.75552019, -319.34939904, -542.06315287,\n",
       "         -602.29239207, -417.52915971, -645.53198923, -695.14675761],\n",
       "        [-773.49742638, -748.3315028 , -505.97295386, -461.08208888,\n",
       "          -42.18788969, -287.41445914, -487.85674497, -542.06315287,\n",
       "         -602.29239207, -498.52915971, -726.53198923, -796.14675761],\n",
       "        [-773.49742638, -748.3315028 , -720.36936549, -689.30032403,\n",
       "         -327.88982903, -438.07107047, -486.85674497, -541.06315287,\n",
       "         -782.29239207, -678.52915971, -816.53198923, -796.14675761]],\n",
       "\n",
       "       [[-650.25341799, -712.50379776, -791.67098931, -768.5243505 ,\n",
       "         -742.80586293, -591.90103051, -546.55772961, -496.17628417,\n",
       "         -440.19690034, -564.44589334, -560.3660926 , -594.22798358],\n",
       "        [-660.25341799, -722.50379776, -791.67098931, -768.5243505 ,\n",
       "         -742.80586293, -591.90103051, -546.55772961, -496.17628417,\n",
       "          -22.99646746, -266.39758453, -331.23961904, -461.56412406],\n",
       "        [-501.73801853, -722.50379776, -791.67098931, -768.5243505 ,\n",
       "         -742.80586293, -491.90103051, -446.55772961,  -20.69682071,\n",
       "         -310.16624374, -515.3686977 , -544.72198923, -625.14675761],\n",
       "        [-683.49742638, -546.37556586, -791.67098931, -768.5243505 ,\n",
       "         -742.80586293, -411.90103051,  -28.62713864, -289.14952675,\n",
       "         -375.77624374, -580.9786977 , -625.63198923, -706.14675761],\n",
       "        [-773.49742638, -748.3315028 , -595.97295386, -551.08208888,\n",
       "         -501.20335002,  -35.76442478, -270.23457407, -348.19852675,\n",
       "         -447.67624374, -652.8786977 , -715.53198923, -796.14675761],\n",
       "        [-773.49742638, -748.3315028 , -720.36936549, -689.30032403,\n",
       "         -654.77916686, -253.21102405, -323.37867407, -412.90852675,\n",
       "         -710.67624374, -834.8786977 , -816.53198923, -796.14675761]],\n",
       "\n",
       "       [[-831.25341799, -812.50379776, -791.67098931, -768.5243505 ,\n",
       "         -742.80586293, -714.22976563, -682.47854641, -647.19941394,\n",
       "         -608.00037787, -604.32948334, -634.8050926 , -848.12798358],\n",
       "        [-831.25341799, -812.50379776, -791.67098931, -768.5243505 ,\n",
       "         -742.80586293, -714.22976563, -682.47854641, -647.19941394,\n",
       "         -239.75782607, -298.11556453, -415.40761904, -705.46412406],\n",
       "        [-672.73801853, -812.50379776, -791.67098931, -768.5243505 ,\n",
       "         -742.80586293, -714.22976563, -682.47854641, -315.78204347,\n",
       "         -473.83173531, -500.2496977 , -572.63198923, -796.14675761],\n",
       "        [-773.49742638, -636.37556586, -791.67098931, -768.5243505 ,\n",
       "         -742.80586293, -714.22976563, -384.20383912, -526.44856178,\n",
       "         -532.88073531, -573.0686977 , -645.53198923, -796.14675761],\n",
       "        [-773.49742638, -748.3315028 , -595.97295386, -551.08208888,\n",
       "         -501.20335002, -445.78252907, -573.80361299, -579.59266178,\n",
       "         -597.59073531, -653.9786977 , -726.53198923, -796.14675761],\n",
       "        [-773.49742638, -748.3315028 , -720.36936549, -689.30032403,\n",
       "         -654.77916686, -616.42232555, -621.63330299, -637.83166178,\n",
       "         -851.39073531, -834.8786977 , -816.53198923, -796.14675761]]])"
      ]
     },
     "execution_count": 10,
     "metadata": {},
     "output_type": "execute_result"
    }
   ],
   "source": [
    "\"\"\"\n",
    "3(e)\n",
    "\"\"\"\n",
    "policy_evaluation(initial_policy,0.9,0)"
   ]
  },
  {
   "cell_type": "code",
   "execution_count": 11,
   "metadata": {},
   "outputs": [],
   "source": [
    "\"\"\"\n",
    "3(f)\n",
    "\"\"\"\n",
    "def return_policy(V,A,lamda,pe):\n",
    "    #setup an empty policy\n",
    "    policy = []\n",
    "    for k in range(6):\n",
    "        temp2 = []\n",
    "        for i in range(6):\n",
    "            temp = []\n",
    "            for j in range(12):\n",
    "                temp.append((\"-\",\"-\"))\n",
    "            temp2.append(temp)    \n",
    "        policy.append(temp2)\n",
    "        \n",
    "    #find policy for all states\n",
    "    for j in range(6):\n",
    "        for i in range(6):\n",
    "            for k in range(12):\n",
    "                s = i + j * 6 + k/100\n",
    "                temp = []\n",
    "                for a in A:\n",
    "                    nxt,prob = find_next_state(pe,s,a)\n",
    "                    VV = 0\n",
    "                    for n in range(len(nxt)):\n",
    "                        np = (int(nxt[n]) % W,int((int(nxt[n]) - int(nxt[n]) % W) / W))\n",
    "                        nd = int(100 * round(nxt[n] - int(nxt[n]),2))\n",
    "                        VV += prob[n] *(reward(nxt[n]) + lamda*V[np[0],np[1],nd])\n",
    "                    temp.append(VV)\n",
    "                policy[i][j][k] = A[temp.index(max(temp))]\n",
    "    return policy"
   ]
  },
  {
   "cell_type": "code",
   "execution_count": 12,
   "metadata": {},
   "outputs": [],
   "source": [
    "\"\"\"\n",
    "3(g) Combine functions\n",
    "\"\"\"\n",
    "def policy_iteration(initial_policy,A,lamda,pe):\n",
    "    ipolicy = initial_policy.copy()\n",
    "    while True:\n",
    "        V = policy_evaluation(ipolicy,lamda,pe)\n",
    "        npolicy = return_policy(V,A,lamda,pe)\n",
    "        #check if converge\n",
    "        if npolicy == ipolicy:\n",
    "            break\n",
    "        else:\n",
    "            ipolicy = npolicy.copy()\n",
    "    return npolicy,V    "
   ]
  },
  {
   "cell_type": "code",
   "execution_count": 13,
   "metadata": {
    "scrolled": true
   },
   "outputs": [
    {
     "data": {
      "image/png": "[encoded data removed]",
      "text/plain": [
       "<matplotlib.figure.Figure at 0x211ad2d9b00>"
      ]
     },
     "metadata": {},
     "output_type": "display_data"
    },
    {
     "data": {
      "text/plain": [
       "<matplotlib.figure.Figure at 0x211ad757be0>"
      ]
     },
     "metadata": {},
     "output_type": "display_data"
    }
   ],
   "source": [
    "\"\"\"\n",
    "3(h) find trajectory\n",
    "\"\"\"\n",
    "t1 = time.clock()\n",
    "p,V = policy_iteration(initial_policy,A,0.9,0)\n",
    "find_trajectory(p,25.06,0)\n",
    "t2 = time.clock()"
   ]
  },
  {
   "cell_type": "code",
   "execution_count": 14,
   "metadata": {},
   "outputs": [
    {
     "name": "stdout",
     "output_type": "stream",
     "text": [
      "The time policy iteration takes to run 3(h) is: 6.724 sec. (Round to 3 decimal points)\n"
     ]
    }
   ],
   "source": [
    "\"\"\"\n",
    "3(i)\n",
    "\"\"\"\n",
    "print(\"The time policy iteration takes to run 3(h) is:\",round(t2-t1,3),\"sec. (Round to 3 decimal points)\")"
   ]
  },
  {
   "cell_type": "code",
   "execution_count": 15,
   "metadata": {},
   "outputs": [],
   "source": [
    "\"\"\"\n",
    "4(a)\n",
    "\"\"\"\n",
    "def value_iter(A,lamda,pe):\n",
    "    #initialize state value\n",
    "    V = numpy.zeros((6,6,12))\n",
    "    V_temp = numpy.zeros((6,6,12))\n",
    "    #initialize policy\n",
    "    policy = [[[(\"-\",\"-\") for i in range(12)] for j in range(6)] for k in range(6)]\n",
    "    while True:\n",
    "        for j in range(6):\n",
    "            for i in range(6):\n",
    "                for k in range(12):\n",
    "                    s = i + j*6 + k/100\n",
    "                    temp = []\n",
    "                    for a in A:\n",
    "                        VV = 0\n",
    "                        nxt,prob = find_next_state(pe,s,a)\n",
    "                        for n in range(len(nxt)):\n",
    "                            np = (int(nxt[n]) % W,int((int(nxt[n]) - int(nxt[n]) % W) / W))\n",
    "                            nd = int(100 * round(nxt[n] - int(nxt[n]),2))\n",
    "                            VV += prob[n] *(reward(nxt[n]) + lamda*V[np[0],np[1],nd])\n",
    "                        temp.append(VV)\n",
    "                    V[i,j,k] = max(temp)\n",
    "                    policy[i][j][k] = A[temp.index(max(temp))]\n",
    "#                     print(temp)\n",
    "#                     print(max(temp))\n",
    "#                     print(A[temp.index(max(temp))])\n",
    "                        \n",
    "        diff = numpy.amax(abs(V - V_temp))\n",
    "        #check if converge\n",
    "        if diff < 0.001:\n",
    "            break\n",
    "        else:\n",
    "            V_temp = copy.deepcopy(V)\n",
    "    return policy,V        "
   ]
  },
  {
   "cell_type": "code",
   "execution_count": 16,
   "metadata": {
    "scrolled": true
   },
   "outputs": [
    {
     "data": {
      "image/png": "[encoded data removed]",
      "text/plain": [
       "<matplotlib.figure.Figure at 0x211ad783160>"
      ]
     },
     "metadata": {},
     "output_type": "display_data"
    },
    {
     "data": {
      "text/plain": [
       "<matplotlib.figure.Figure at 0x211ad851550>"
      ]
     },
     "metadata": {},
     "output_type": "display_data"
    }
   ],
   "source": [
    "\"\"\"\n",
    "4(b) find trajectory\n",
    "\"\"\"\n",
    "t1 = time.clock()\n",
    "p,V = value_iter(A,0.9,0)\n",
    "find_trajectory(p,25.06,0)\n",
    "t2 = time.clock()"
   ]
  },
  {
   "cell_type": "code",
   "execution_count": 17,
   "metadata": {},
   "outputs": [
    {
     "name": "stdout",
     "output_type": "stream",
     "text": [
      "The time value iteration takes to run 4(b) is: 5.022 sec. (Round to 3 decimal points)\n"
     ]
    }
   ],
   "source": [
    "\"\"\"\n",
    "4(c)\n",
    "\"\"\"\n",
    "print(\"The time value iteration takes to run 4(b) is:\",round(t2-t1,3),\"sec. (Round to 3 decimal points)\")"
   ]
  },
  {
   "cell_type": "code",
   "execution_count": 19,
   "metadata": {
    "scrolled": true
   },
   "outputs": [
    {
     "data": {
      "image/png": "[encoded data removed]",
      "text/plain": [
       "<matplotlib.figure.Figure at 0x211ad877e10>"
      ]
     },
     "metadata": {},
     "output_type": "display_data"
    },
    {
     "name": "stdout",
     "output_type": "stream",
     "text": [
      "The time policy iteration takes to run 5(a) is: 5.88 sec. (Round to 3 decimal points)\n"
     ]
    },
    {
     "data": {
      "text/plain": [
       "<matplotlib.figure.Figure at 0x211ada076a0>"
      ]
     },
     "metadata": {},
     "output_type": "display_data"
    }
   ],
   "source": [
    "t1 = time.clock()\n",
    "p,V = policy_iteration(initial_policy,A,0.9,0.25)\n",
    "find_trajectory(p,25.06,0.25)\n",
    "t2 = time.clock()\n",
    "print(\"The time policy iteration takes to run 5(a) is:\",round(t2-t1,3),\"sec. (Round to 3 decimal points)\")"
   ]
  },
  {
   "cell_type": "code",
   "execution_count": 18,
   "metadata": {
    "scrolled": true
   },
   "outputs": [
    {
     "data": {
      "image/png": "[encoded data removed]",
      "text/plain": [
       "<matplotlib.figure.Figure at 0x211ad783198>"
      ]
     },
     "metadata": {},
     "output_type": "display_data"
    },
    {
     "name": "stdout",
     "output_type": "stream",
     "text": [
      "The time value iteration takes to run 5(a) is: 3.177 sec. (Round to 3 decimal points)\n"
     ]
    },
    {
     "data": {
      "text/plain": [
       "<matplotlib.figure.Figure at 0x211ad9350f0>"
      ]
     },
     "metadata": {},
     "output_type": "display_data"
    }
   ],
   "source": [
    "\"\"\"\n",
    "5(a) value iteration\n",
    "\"\"\"\n",
    "t1 = time.clock()\n",
    "p,V = value_iter(A,0.9,0.25)\n",
    "find_trajectory(p,25.06,0.25)\n",
    "t2 = time.clock()\n",
    "print(\"The time value iteration takes to run 5(a) is:\",round(t2-t1,3),\"sec. (Round to 3 decimal points)\")"
   ]
  },
  {
   "cell_type": "code",
   "execution_count": 20,
   "metadata": {},
   "outputs": [],
   "source": [
    "\"\"\"\n",
    "5(b) new reward\n",
    "\"\"\"\n",
    "def reward(s):\n",
    "    #transform the state information to the coordinates and direction indices\n",
    "    cd = int(100 * round(s - int(s),2))\n",
    "    cp = (int(s) % W,int((int(s) - int(s) % W) / W))\n",
    "    if cp[0] in [0,5] or cp[1] in [0,5]:\n",
    "        return -100\n",
    "    elif cp in [(2,4),(2,3),(2,2),(4,2),(4,3),(4,4)]:\n",
    "        return -10\n",
    "    elif cp == (3,4) and cd in [5,6,7]:\n",
    "        return 1\n",
    "    else:\n",
    "        return 0"
   ]
  },
  {
   "cell_type": "code",
   "execution_count": 21,
   "metadata": {},
   "outputs": [
    {
     "data": {
      "image/png": "[encoded data removed]",
      "text/plain": [
       "<matplotlib.figure.Figure at 0x211ada26da0>"
      ]
     },
     "metadata": {},
     "output_type": "display_data"
    },
    {
     "name": "stdout",
     "output_type": "stream",
     "text": [
      "The time policy iteration takes to run 5(a) is: 6.089 sec. (Round to 3 decimal points)\n"
     ]
    },
    {
     "data": {
      "text/plain": [
       "<matplotlib.figure.Figure at 0x211adaf56d8>"
      ]
     },
     "metadata": {},
     "output_type": "display_data"
    }
   ],
   "source": [
    "t1 = time.clock()\n",
    "p,V = policy_iteration(initial_policy,A,0.9,0.25)\n",
    "find_trajectory(p,25.06,0.25)\n",
    "t2 = time.clock()\n",
    "print(\"The time policy iteration takes to run 5(a) is:\",round(t2-t1,3),\"sec. (Round to 3 decimal points)\")"
   ]
  },
  {
   "cell_type": "code",
   "execution_count": 22,
   "metadata": {},
   "outputs": [
    {
     "data": {
      "image/png": "[encoded data removed]",
      "text/plain": [
       "<matplotlib.figure.Figure at 0x211ada326a0>"
      ]
     },
     "metadata": {},
     "output_type": "display_data"
    },
    {
     "name": "stdout",
     "output_type": "stream",
     "text": [
      "The time value iteration takes to run 5(a) is: 3.315 sec. (Round to 3 decimal points)\n"
     ]
    },
    {
     "data": {
      "text/plain": [
       "<matplotlib.figure.Figure at 0x211ad89d0f0>"
      ]
     },
     "metadata": {},
     "output_type": "display_data"
    }
   ],
   "source": [
    "t1 = time.clock()\n",
    "p,V = value_iter(A,0.9,0.25)\n",
    "find_trajectory(p,25.06,0.25)\n",
    "t2 = time.clock()\n",
    "print(\"The time value iteration takes to run 5(a) is:\",round(t2-t1,3),\"sec. (Round to 3 decimal points)\")"
   ]
  },
  {
   "cell_type": "raw",
   "metadata": {},
   "source": [
    "\"\"\"\n",
    "5(c)\n",
    "\"\"\"\n",
    "The value iteration, generally speaking, has shorter time consumption hence better performance compared to policy iteration\n",
    "although they have the same trajectory under Pe = 0. When Pe is not equal to 0, the policy iteration has a lower probability of\n",
    "going widely."
   ]
  }
 ],
 "metadata": {
  "kernelspec": {
   "display_name": "Python 3",
   "language": "python",
   "name": "python3"
  },
  "language_info": {
   "codemirror_mode": {
    "name": "ipython",
    "version": 3
   },
   "file_extension": ".py",
   "mimetype": "text/x-python",
   "name": "python",
   "nbconvert_exporter": "python",
   "pygments_lexer": "ipython3",
   "version": "3.6.5"
  },
  "toc": {
   "base_numbering": 1,
   "nav_menu": {},
   "number_sections": true,
   "sideBar": true,
   "skip_h1_title": false,
   "title_cell": "Table of Contents",
   "title_sidebar": "Contents",
   "toc_cell": false,
   "toc_position": {},
   "toc_section_display": true,
   "toc_window_display": false
  }
 },
 "nbformat": 4,
 "nbformat_minor": 2
}
